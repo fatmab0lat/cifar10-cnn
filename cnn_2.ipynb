{
  "nbformat": 4,
  "nbformat_minor": 0,
  "metadata": {
    "colab": {
      "provenance": [],
      "gpuType": "T4",
      "authorship_tag": "ABX9TyPxKJ2ppgmLxFo8AfgWU9NS",
      "include_colab_link": true
    },
    "kernelspec": {
      "name": "python3",
      "display_name": "Python 3"
    },
    "language_info": {
      "name": "python"
    },
    "accelerator": "GPU"
  },
  "cells": [
    {
      "cell_type": "markdown",
      "metadata": {
        "id": "view-in-github",
        "colab_type": "text"
      },
      "source": [
        "<a href=\"https://colab.research.google.com/github/fatmab0lat/cifar10-cnn/blob/main/cnn_2.ipynb\" target=\"_parent\"><img src=\"https://colab.research.google.com/assets/colab-badge.svg\" alt=\"Open In Colab\"/></a>"
      ]
    },
    {
      "cell_type": "code",
      "execution_count": 1,
      "metadata": {
        "id": "F7mfXvJ3dZVg"
      },
      "outputs": [],
      "source": [
        "import cv2\n",
        "import urllib\n",
        "import itertools\n",
        "import numpy as np\n",
        "import pandas as pd\n",
        "import seaborn as sns\n",
        "import random, os, glob\n",
        "from imutils import paths\n",
        "import matplotlib.pyplot as plt\n",
        "from sklearn.utils import shuffle\n",
        "from urllib.request import urlopen\n",
        "\n",
        "from sklearn.metrics import confusion_matrix, classification_report\n",
        "\n",
        "import tensorflow as tf\n",
        "from tensorflow.keras.models import Sequential\n",
        "from tensorflow.keras.preprocessing import image\n",
        "from tensorflow.keras.utils import to_categorical\n",
        "from tensorflow.keras.callbacks import ModelCheckpoint, EarlyStopping\n",
        "from tensorflow.keras.layers import Conv2D, Flatten, MaxPooling2D, Dense, Dropout, SpatialDropout2D\n",
        "from tensorflow.keras.preprocessing.image import ImageDataGenerator, img_to_array, array_to_img\n",
        "from tensorflow.keras.datasets import cifar10"
      ]
    },
    {
      "cell_type": "code",
      "source": [
        "(x_train, y_train), (x_test, y_test) = cifar10.load_data()"
      ],
      "metadata": {
        "id": "kUOSQ71beIjw",
        "colab": {
          "base_uri": "https://localhost:8080/"
        },
        "outputId": "b335f3bf-1ee1-46b8-814a-e42f21fe6ebe"
      },
      "execution_count": 2,
      "outputs": [
        {
          "output_type": "stream",
          "name": "stdout",
          "text": [
            "Downloading data from https://www.cs.toronto.edu/~kriz/cifar-10-python.tar.gz\n",
            "170498071/170498071 [==============================] - 3s 0us/step\n"
          ]
        }
      ]
    },
    {
      "cell_type": "code",
      "source": [
        "print(\"egitim seti boyutu: \",x_train.shape, y_train.shape)"
      ],
      "metadata": {
        "colab": {
          "base_uri": "https://localhost:8080/"
        },
        "id": "94trrD2UeU7l",
        "outputId": "a1341dd2-0758-4d94-d37d-a0028cd27f72"
      },
      "execution_count": null,
      "outputs": [
        {
          "output_type": "stream",
          "name": "stdout",
          "text": [
            "egitim seti boyutu:  (50000, 32, 32, 3) (50000, 1)\n"
          ]
        }
      ]
    },
    {
      "cell_type": "code",
      "source": [
        "print(\"test seti boyutu:\",x_test.shape, y_test.shape)"
      ],
      "metadata": {
        "colab": {
          "base_uri": "https://localhost:8080/"
        },
        "id": "m0pSr9w5eX4F",
        "outputId": "98c6cf79-b275-4bd0-b7d3-640a39bc26cc"
      },
      "execution_count": null,
      "outputs": [
        {
          "output_type": "stream",
          "name": "stdout",
          "text": [
            "test seti boyutu: (10000, 32, 32, 3) (10000, 1)\n"
          ]
        }
      ]
    },
    {
      "cell_type": "code",
      "source": [
        "num_labels = len(np.unique(y_train))\n",
        "num_labels"
      ],
      "metadata": {
        "colab": {
          "base_uri": "https://localhost:8080/"
        },
        "id": "SOx1dUNsefwC",
        "outputId": "00e6050d-08f5-496d-d4db-c065d8c9bbad"
      },
      "execution_count": null,
      "outputs": [
        {
          "output_type": "execute_result",
          "data": {
            "text/plain": [
              "10"
            ]
          },
          "metadata": {},
          "execution_count": 12
        }
      ]
    },
    {
      "cell_type": "code",
      "source": [
        "plt.figure(figsize=(5,5))\n",
        "plt.imshow(x_test[10])"
      ],
      "metadata": {
        "colab": {
          "base_uri": "https://localhost:8080/",
          "height": 462
        },
        "id": "aMuif9JSerCe",
        "outputId": "c8f34b97-62c2-4a43-b076-797931854b88"
      },
      "execution_count": 3,
      "outputs": [
        {
          "output_type": "execute_result",
          "data": {
            "text/plain": [
              "<matplotlib.image.AxesImage at 0x7934cf6e47c0>"
            ]
          },
          "metadata": {},
          "execution_count": 3
        },
        {
          "output_type": "display_data",
          "data": {
            "text/plain": [
              "<Figure size 500x500 with 1 Axes>"
            ],
            "image/png": "[encoded data removed]"
          },
          "metadata": {}
        }
      ]
    },
    {
      "cell_type": "code",
      "source": [
        "plt.figure(figsize = (10,10))\n",
        "for n in range(15):\n",
        "  ax = plt.subplot(5,5,n+1)\n",
        "  plt.imshow(x_train[n])\n",
        "  plt.axis('off')"
      ],
      "metadata": {
        "colab": {
          "base_uri": "https://localhost:8080/",
          "height": 488
        },
        "id": "qy4nnJfvezNV",
        "outputId": "160bb845-5298-49ce-b14e-8c272f9f8fa0"
      },
      "execution_count": null,
      "outputs": [
        {
          "output_type": "display_data",
          "data": {
            "text/plain": [
              "<Figure size 1000x1000 with 15 Axes>"
            ],
            "image/png": "[encoded data removed]"
          },
          "metadata": {}
        }
      ]
    },
    {
      "cell_type": "code",
      "source": [
        "x_train[7][4,17]"
      ],
      "metadata": {
        "colab": {
          "base_uri": "https://localhost:8080/"
        },
        "id": "do_VQ2dwfgWB",
        "outputId": "7d7b22cb-f5b8-431c-97f7-0c3ff16be020"
      },
      "execution_count": null,
      "outputs": [
        {
          "output_type": "execute_result",
          "data": {
            "text/plain": [
              "array([228, 244, 184], dtype=uint8)"
            ]
          },
          "metadata": {},
          "execution_count": 15
        }
      ]
    },
    {
      "cell_type": "code",
      "source": [
        "input_shape = (x_train[0].shape[1], x_train[0].shape[1], 3)\n",
        "input_shape"
      ],
      "metadata": {
        "colab": {
          "base_uri": "https://localhost:8080/"
        },
        "id": "XP0xBUjChJ8G",
        "outputId": "1b359d60-9d33-481d-d7bf-b4fbb99665eb"
      },
      "execution_count": null,
      "outputs": [
        {
          "output_type": "execute_result",
          "data": {
            "text/plain": [
              "(32, 32, 3)"
            ]
          },
          "metadata": {},
          "execution_count": 16
        }
      ]
    },
    {
      "cell_type": "code",
      "source": [
        "y_train = to_categorical(y_train)\n",
        "y_test = to_categorical(y_test)"
      ],
      "metadata": {
        "id": "kOPmfKVG-KJV"
      },
      "execution_count": null,
      "outputs": []
    },
    {
      "cell_type": "code",
      "source": [
        "train = ImageDataGenerator(horizontal_flip=True,\n",
        "                           vertical_flip=True,\n",
        "                           validation_split=0.1,\n",
        "                           rescale=1./255,\n",
        "                           shear_range=0.1,\n",
        "                           zoom_range = 0.1,\n",
        "                           width_shift_range = 0.1,\n",
        "                           height_shift_range=0.1)\n",
        "\n",
        "test = ImageDataGenerator(rescale=1/255,\n",
        "                          validation_split=0.1)"
      ],
      "metadata": {
        "id": "y6AZo7sAnMo6"
      },
      "execution_count": null,
      "outputs": []
    },
    {
      "cell_type": "code",
      "source": [
        "train_generator = train.flow(x_train, y_train, batch_size=32)\n",
        "test_generator = test.flow(x_test, y_test, batch_size=32)"
      ],
      "metadata": {
        "id": "inaSSt5dnM2l"
      },
      "execution_count": null,
      "outputs": []
    },
    {
      "cell_type": "code",
      "source": [
        "model = Sequential()\n",
        "model.add(Conv2D(filters = 32, kernel_size = (3,3), padding = 'same', input_shape = (input_shape), activation = 'relu'))\n",
        "model.add(MaxPooling2D(pool_size=2, strides=(2,2)))\n",
        "\n",
        "model.add(Conv2D(filters = 32, kernel_size = (3,3), padding = 'same', activation = 'relu'))\n",
        "model.add(MaxPooling2D(pool_size=2, strides=(2,2)))\n",
        "\n",
        "#model.add(Conv2D(filters = 32, kernel_size = (3,3), padding = 'same', activation = 'relu'))\n",
        "#model.add(MaxPooling2D(pool_size=2, strides=(2,2)))\n",
        "\n",
        "model.add(Flatten())\n",
        "\n",
        "model.add(Dense(units = 64, activation='relu'))\n",
        "model.add(Dropout(rate=0.2))\n",
        "model.add(Dense(units = 32, activation='relu'))\n",
        "model.add(Dropout(rate=0.2))\n",
        "\n",
        "model.add(Dense(units = 10, activation='softmax'))"
      ],
      "metadata": {
        "id": "oLpDtkFzf03M"
      },
      "execution_count": null,
      "outputs": []
    },
    {
      "cell_type": "code",
      "source": [
        "model.compile(loss = 'categorical_crossentropy',\n",
        "              optimizer = 'adam',\n",
        "              metrics = [tf.keras.metrics.Precision(), tf.keras.metrics.Recall(), \"acc\"])"
      ],
      "metadata": {
        "id": "IsnkjKPNhGIc"
      },
      "execution_count": null,
      "outputs": []
    },
    {
      "cell_type": "code",
      "source": [
        "callbacks = [EarlyStopping(monitor = 'val_loss', patience = 50, verbose = 1, mode = 'min'),\n",
        "             ModelCheckpoint(filepath = 'mymodel.h5', monitor = \"val_loss\", mode = 'min', save_best_only = True, save_weights_only=False)]"
      ],
      "metadata": {
        "id": "OH_zG0COh35m"
      },
      "execution_count": null,
      "outputs": []
    },
    {
      "cell_type": "code",
      "source": [
        "print(len(x_test) // 32)"
      ],
      "metadata": {
        "colab": {
          "base_uri": "https://localhost:8080/"
        },
        "id": "8bK3GpdH6ej1",
        "outputId": "af3f46fc-f086-4aa0-8fcf-b772572edbce"
      },
      "execution_count": null,
      "outputs": [
        {
          "output_type": "stream",
          "name": "stdout",
          "text": [
            "312\n"
          ]
        }
      ]
    },
    {
      "cell_type": "code",
      "source": [
        "model.summary()"
      ],
      "metadata": {
        "colab": {
          "base_uri": "https://localhost:8080/"
        },
        "id": "Z5PDkdlt7rcI",
        "outputId": "6ddb3e55-1288-4e11-e68d-f7caf14625bb"
      },
      "execution_count": null,
      "outputs": [
        {
          "output_type": "stream",
          "name": "stdout",
          "text": [
            "Model: \"sequential\"\n",
            "_________________________________________________________________\n",
            " Layer (type)                Output Shape              Param #   \n",
            "=================================================================\n",
            " conv2d (Conv2D)             (None, 32, 32, 32)        896       \n",
            "                                                                 \n",
            " max_pooling2d (MaxPooling2  (None, 16, 16, 32)        0         \n",
            " D)                                                              \n",
            "                                                                 \n",
            " conv2d_1 (Conv2D)           (None, 16, 16, 32)        9248      \n",
            "                                                                 \n",
            " max_pooling2d_1 (MaxPoolin  (None, 8, 8, 32)          0         \n",
            " g2D)                                                            \n",
            "                                                                 \n",
            " flatten (Flatten)           (None, 2048)              0         \n",
            "                                                                 \n",
            " dense (Dense)               (None, 64)                131136    \n",
            "                                                                 \n",
            " dropout (Dropout)           (None, 64)                0         \n",
            "                                                                 \n",
            " dense_1 (Dense)             (None, 32)                2080      \n",
            "                                                                 \n",
            " dropout_1 (Dropout)         (None, 32)                0         \n",
            "                                                                 \n",
            " dense_2 (Dense)             (None, 10)                330       \n",
            "                                                                 \n",
            "=================================================================\n",
            "Total params: 143690 (561.29 KB)\n",
            "Trainable params: 143690 (561.29 KB)\n",
            "Non-trainable params: 0 (0.00 Byte)\n",
            "_________________________________________________________________\n"
          ]
        }
      ]
    },
    {
      "cell_type": "code",
      "source": [
        "history = model.fit_generator(generator = train_generator,\n",
        "                              epochs = 50,\n",
        "                              validation_data = test_generator,\n",
        "                              callbacks = callbacks,\n",
        "                              workers = 4,\n",
        "                              steps_per_epoch=1562,\n",
        "                              validation_steps=312)"
      ],
      "metadata": {
        "colab": {
          "base_uri": "https://localhost:8080/"
        },
        "id": "dSY1RqmTh9ly",
        "outputId": "ce182d34-c47e-4117-f5ac-759a9385b3b3"
      },
      "execution_count": null,
      "outputs": [
        {
          "output_type": "stream",
          "name": "stdout",
          "text": [
            "Epoch 1/50\n",
            "   1/1562 [..............................] - ETA: 2:53 - loss: 1.3503 - precision: 0.7059 - recall: 0.3750 - acc: 0.5938"
          ]
        },
        {
          "output_type": "stream",
          "name": "stderr",
          "text": [
            "<ipython-input-47-c39472ced168>:1: UserWarning: `Model.fit_generator` is deprecated and will be removed in a future version. Please use `Model.fit`, which supports generators.\n",
            "  history = model.fit_generator(generator = train_generator,\n"
          ]
        },
        {
          "output_type": "stream",
          "name": "stdout",
          "text": [
            "1562/1562 [==============================] - 50s 32ms/step - loss: 1.2862 - precision: 0.7208 - recall: 0.3493 - acc: 0.5431 - val_loss: 1.2018 - val_precision: 0.7154 - val_recall: 0.4266 - val_acc: 0.5754\n",
            "Epoch 2/50\n",
            "1562/1562 [==============================] - 50s 32ms/step - loss: 1.2768 - precision: 0.7210 - recall: 0.3539 - acc: 0.5461 - val_loss: 1.1327 - val_precision: 0.7687 - val_recall: 0.4187 - val_acc: 0.6010\n",
            "Epoch 3/50\n",
            "   1/1562 [..............................] - ETA: 2:48 - loss: 1.2688 - precision: 0.7059 - recall: 0.3750 - acc: 0.5938"
          ]
        },
        {
          "output_type": "stream",
          "name": "stderr",
          "text": [
            "/usr/local/lib/python3.10/dist-packages/keras/src/engine/training.py:3103: UserWarning: You are saving your model as an HDF5 file via `model.save()`. This file format is considered legacy. We recommend using instead the native Keras format, e.g. `model.save('my_model.keras')`.\n",
            "  saving_api.save_model(\n"
          ]
        },
        {
          "output_type": "stream",
          "name": "stdout",
          "text": [
            "1562/1562 [==============================] - 49s 32ms/step - loss: 1.2730 - precision: 0.7242 - recall: 0.3585 - acc: 0.5491 - val_loss: 1.0881 - val_precision: 0.7642 - val_recall: 0.4393 - val_acc: 0.6093\n",
            "Epoch 4/50\n",
            "1562/1562 [==============================] - 49s 31ms/step - loss: 1.2611 - precision: 0.7256 - recall: 0.3658 - acc: 0.5527 - val_loss: 1.1116 - val_precision: 0.7766 - val_recall: 0.4217 - val_acc: 0.6036\n",
            "Epoch 5/50\n",
            "1562/1562 [==============================] - 49s 32ms/step - loss: 1.2542 - precision: 0.7270 - recall: 0.3717 - acc: 0.5542 - val_loss: 1.0985 - val_precision: 0.7630 - val_recall: 0.4388 - val_acc: 0.6122\n",
            "Epoch 6/50\n",
            "1562/1562 [==============================] - 49s 31ms/step - loss: 1.2476 - precision: 0.7275 - recall: 0.3733 - acc: 0.5547 - val_loss: 1.1149 - val_precision: 0.7541 - val_recall: 0.4402 - val_acc: 0.5997\n",
            "Epoch 7/50\n",
            "1562/1562 [==============================] - 49s 31ms/step - loss: 1.2431 - precision: 0.7280 - recall: 0.3762 - acc: 0.5589 - val_loss: 1.0337 - val_precision: 0.7824 - val_recall: 0.4626 - val_acc: 0.6273\n",
            "Epoch 8/50\n",
            "1562/1562 [==============================] - 49s 31ms/step - loss: 1.2349 - precision: 0.7337 - recall: 0.3819 - acc: 0.5658 - val_loss: 1.0710 - val_precision: 0.7594 - val_recall: 0.4662 - val_acc: 0.6161\n",
            "Epoch 9/50\n",
            "1562/1562 [==============================] - 49s 31ms/step - loss: 1.2336 - precision: 0.7349 - recall: 0.3844 - acc: 0.5648 - val_loss: 1.0901 - val_precision: 0.7494 - val_recall: 0.4481 - val_acc: 0.6112\n",
            "Epoch 10/50\n",
            "1562/1562 [==============================] - 49s 31ms/step - loss: 1.2291 - precision: 0.7345 - recall: 0.3888 - acc: 0.5658 - val_loss: 1.0338 - val_precision: 0.7812 - val_recall: 0.4632 - val_acc: 0.6335\n",
            "Epoch 11/50\n",
            "1562/1562 [==============================] - 49s 31ms/step - loss: 1.2188 - precision: 0.7342 - recall: 0.3943 - acc: 0.5723 - val_loss: 1.0595 - val_precision: 0.7798 - val_recall: 0.4516 - val_acc: 0.6215\n",
            "Epoch 12/50\n",
            "1562/1562 [==============================] - 48s 31ms/step - loss: 1.2092 - precision: 0.7381 - recall: 0.3958 - acc: 0.5729 - val_loss: 1.0576 - val_precision: 0.7619 - val_recall: 0.4608 - val_acc: 0.6160\n",
            "Epoch 13/50\n",
            "1562/1562 [==============================] - 49s 31ms/step - loss: 1.2096 - precision: 0.7422 - recall: 0.4003 - acc: 0.5742 - val_loss: 1.0691 - val_precision: 0.7884 - val_recall: 0.4332 - val_acc: 0.6196\n",
            "Epoch 14/50\n",
            "1562/1562 [==============================] - 48s 31ms/step - loss: 1.2005 - precision: 0.7416 - recall: 0.4008 - acc: 0.5768 - val_loss: 1.1261 - val_precision: 0.7288 - val_recall: 0.4642 - val_acc: 0.5999\n",
            "Epoch 15/50\n",
            "1562/1562 [==============================] - 48s 31ms/step - loss: 1.2048 - precision: 0.7394 - recall: 0.4014 - acc: 0.5743 - val_loss: 1.0853 - val_precision: 0.7555 - val_recall: 0.4561 - val_acc: 0.6105\n",
            "Epoch 16/50\n",
            "1562/1562 [==============================] - 48s 30ms/step - loss: 1.1943 - precision: 0.7433 - recall: 0.4071 - acc: 0.5787 - val_loss: 1.0540 - val_precision: 0.7669 - val_recall: 0.4738 - val_acc: 0.6308\n",
            "Epoch 17/50\n",
            "1562/1562 [==============================] - 48s 31ms/step - loss: 1.1944 - precision: 0.7413 - recall: 0.4054 - acc: 0.5789 - val_loss: 1.0543 - val_precision: 0.7540 - val_recall: 0.4766 - val_acc: 0.6220\n",
            "Epoch 18/50\n",
            "1562/1562 [==============================] - 48s 31ms/step - loss: 1.1855 - precision: 0.7447 - recall: 0.4133 - acc: 0.5836 - val_loss: 1.0861 - val_precision: 0.7462 - val_recall: 0.4805 - val_acc: 0.6147\n",
            "Epoch 19/50\n",
            "1562/1562 [==============================] - 48s 31ms/step - loss: 1.1839 - precision: 0.7423 - recall: 0.4136 - acc: 0.5849 - val_loss: 1.0659 - val_precision: 0.7467 - val_recall: 0.4871 - val_acc: 0.6237\n",
            "Epoch 20/50\n",
            "1562/1562 [==============================] - 48s 31ms/step - loss: 1.1792 - precision: 0.7432 - recall: 0.4178 - acc: 0.5840 - val_loss: 1.0789 - val_precision: 0.7392 - val_recall: 0.4789 - val_acc: 0.6120\n",
            "Epoch 21/50\n",
            "1562/1562 [==============================] - 48s 31ms/step - loss: 1.1777 - precision: 0.7466 - recall: 0.4199 - acc: 0.5876 - val_loss: 0.9896 - val_precision: 0.7840 - val_recall: 0.5051 - val_acc: 0.6492\n",
            "Epoch 22/50\n",
            "1562/1562 [==============================] - 48s 31ms/step - loss: 1.1687 - precision: 0.7439 - recall: 0.4214 - acc: 0.5909 - val_loss: 1.0566 - val_precision: 0.7479 - val_recall: 0.4986 - val_acc: 0.6196\n",
            "Epoch 23/50\n",
            "1562/1562 [==============================] - 48s 30ms/step - loss: 1.1747 - precision: 0.7439 - recall: 0.4182 - acc: 0.5876 - val_loss: 1.1021 - val_precision: 0.7439 - val_recall: 0.4512 - val_acc: 0.6076\n",
            "Epoch 24/50\n",
            "1562/1562 [==============================] - 48s 31ms/step - loss: 1.1649 - precision: 0.7492 - recall: 0.4255 - acc: 0.5922 - val_loss: 1.1126 - val_precision: 0.7511 - val_recall: 0.4784 - val_acc: 0.6157\n",
            "Epoch 25/50\n",
            "1562/1562 [==============================] - 48s 31ms/step - loss: 1.1667 - precision: 0.7454 - recall: 0.4248 - acc: 0.5901 - val_loss: 1.0810 - val_precision: 0.7490 - val_recall: 0.4618 - val_acc: 0.6065\n",
            "Epoch 26/50\n",
            "1562/1562 [==============================] - 50s 32ms/step - loss: 1.1583 - precision: 0.7462 - recall: 0.4284 - acc: 0.5940 - val_loss: 1.0352 - val_precision: 0.7629 - val_recall: 0.4969 - val_acc: 0.6324\n",
            "Epoch 27/50\n",
            "1562/1562 [==============================] - 48s 31ms/step - loss: 1.1592 - precision: 0.7484 - recall: 0.4279 - acc: 0.5940 - val_loss: 0.9904 - val_precision: 0.7865 - val_recall: 0.5061 - val_acc: 0.6487\n",
            "Epoch 28/50\n",
            "1562/1562 [==============================] - 48s 31ms/step - loss: 1.1575 - precision: 0.7531 - recall: 0.4287 - acc: 0.5931 - val_loss: 1.0421 - val_precision: 0.7708 - val_recall: 0.4838 - val_acc: 0.6314\n",
            "Epoch 29/50\n",
            "1562/1562 [==============================] - 49s 31ms/step - loss: 1.1543 - precision: 0.7466 - recall: 0.4326 - acc: 0.5936 - val_loss: 1.1893 - val_precision: 0.7023 - val_recall: 0.4641 - val_acc: 0.5810\n",
            "Epoch 30/50\n",
            "1562/1562 [==============================] - 48s 31ms/step - loss: 1.1510 - precision: 0.7523 - recall: 0.4336 - acc: 0.5954 - val_loss: 1.0279 - val_precision: 0.7592 - val_recall: 0.5071 - val_acc: 0.6329\n",
            "Epoch 31/50\n",
            "1562/1562 [==============================] - 48s 31ms/step - loss: 1.1510 - precision: 0.7522 - recall: 0.4337 - acc: 0.5976 - val_loss: 1.0510 - val_precision: 0.7406 - val_recall: 0.5118 - val_acc: 0.6288\n",
            "Epoch 32/50\n",
            "1562/1562 [==============================] - 48s 31ms/step - loss: 1.1474 - precision: 0.7520 - recall: 0.4373 - acc: 0.6009 - val_loss: 1.0224 - val_precision: 0.7653 - val_recall: 0.5037 - val_acc: 0.6371\n",
            "Epoch 33/50\n",
            "1562/1562 [==============================] - 48s 31ms/step - loss: 1.1439 - precision: 0.7497 - recall: 0.4369 - acc: 0.5987 - val_loss: 1.0674 - val_precision: 0.7350 - val_recall: 0.4926 - val_acc: 0.6155\n",
            "Epoch 34/50\n",
            "1562/1562 [==============================] - 48s 31ms/step - loss: 1.1419 - precision: 0.7530 - recall: 0.4382 - acc: 0.5994 - val_loss: 1.0180 - val_precision: 0.7624 - val_recall: 0.5203 - val_acc: 0.6408\n",
            "Epoch 35/50\n",
            "1562/1562 [==============================] - 49s 32ms/step - loss: 1.1456 - precision: 0.7515 - recall: 0.4388 - acc: 0.5991 - val_loss: 0.9677 - val_precision: 0.7831 - val_recall: 0.5272 - val_acc: 0.6581\n",
            "Epoch 36/50\n",
            "1562/1562 [==============================] - 48s 31ms/step - loss: 1.1409 - precision: 0.7544 - recall: 0.4412 - acc: 0.6023 - val_loss: 0.9757 - val_precision: 0.7876 - val_recall: 0.5151 - val_acc: 0.6584\n",
            "Epoch 37/50\n",
            "1562/1562 [==============================] - 48s 31ms/step - loss: 1.1355 - precision: 0.7539 - recall: 0.4437 - acc: 0.6023 - val_loss: 1.0507 - val_precision: 0.7570 - val_recall: 0.4988 - val_acc: 0.6272\n",
            "Epoch 38/50\n",
            "1562/1562 [==============================] - 48s 31ms/step - loss: 1.1301 - precision: 0.7550 - recall: 0.4451 - acc: 0.6063 - val_loss: 1.0619 - val_precision: 0.7391 - val_recall: 0.5077 - val_acc: 0.6207\n",
            "Epoch 39/50\n",
            "1562/1562 [==============================] - 48s 31ms/step - loss: 1.1320 - precision: 0.7540 - recall: 0.4441 - acc: 0.6026 - val_loss: 1.0033 - val_precision: 0.7629 - val_recall: 0.5204 - val_acc: 0.6427\n",
            "Epoch 40/50\n",
            "1562/1562 [==============================] - 48s 31ms/step - loss: 1.1309 - precision: 0.7548 - recall: 0.4447 - acc: 0.6055 - val_loss: 1.0069 - val_precision: 0.7756 - val_recall: 0.4908 - val_acc: 0.6408\n",
            "Epoch 41/50\n",
            "1562/1562 [==============================] - 49s 31ms/step - loss: 1.1321 - precision: 0.7549 - recall: 0.4443 - acc: 0.6048 - val_loss: 1.0175 - val_precision: 0.7672 - val_recall: 0.5064 - val_acc: 0.6385\n",
            "Epoch 42/50\n",
            "1562/1562 [==============================] - 48s 31ms/step - loss: 1.1225 - precision: 0.7605 - recall: 0.4527 - acc: 0.6076 - val_loss: 1.0445 - val_precision: 0.7430 - val_recall: 0.5022 - val_acc: 0.6285\n",
            "Epoch 43/50\n",
            " 249/1562 [===>..........................] - ETA: 37s - loss: 1.1249 - precision: 0.7622 - recall: 0.4538 - acc: 0.6113"
          ]
        }
      ]
    },
    {
      "cell_type": "code",
      "source": [
        "model.save('cifar10_model.h5')"
      ],
      "metadata": {
        "id": "WZZSDN6SiSlG"
      },
      "execution_count": null,
      "outputs": []
    },
    {
      "cell_type": "code",
      "source": [
        "y_test[10]\n"
      ],
      "metadata": {
        "colab": {
          "base_uri": "https://localhost:8080/"
        },
        "id": "9cuRCs2aYcfZ",
        "outputId": "ab492b8b-64ff-4e04-87fd-4a19bb9637ba"
      },
      "execution_count": null,
      "outputs": [
        {
          "output_type": "execute_result",
          "data": {
            "text/plain": [
              "array([1., 0., 0., 0., 0., 0., 0., 0., 0., 0.], dtype=float32)"
            ]
          },
          "metadata": {},
          "execution_count": 45
        }
      ]
    },
    {
      "cell_type": "code",
      "source": [
        "probability = model.predict(x_test[10].reshape(1,32,32,3))\n",
        "probability"
      ],
      "metadata": {
        "colab": {
          "base_uri": "https://localhost:8080/"
        },
        "id": "UlZU5TnFLkGu",
        "outputId": "5332b609-6a17-4ada-b668-4c4f909c565d"
      },
      "execution_count": null,
      "outputs": [
        {
          "output_type": "stream",
          "name": "stdout",
          "text": [
            "1/1 [==============================] - 0s 29ms/step\n"
          ]
        },
        {
          "output_type": "execute_result",
          "data": {
            "text/plain": [
              "array([[1.000000e+00, 0.000000e+00, 0.000000e+00, 0.000000e+00,\n",
              "        0.000000e+00, 0.000000e+00, 0.000000e+00, 0.000000e+00,\n",
              "        5.664791e-19, 0.000000e+00]], dtype=float32)"
            ]
          },
          "metadata": {},
          "execution_count": 46
        }
      ]
    },
    {
      "cell_type": "code",
      "source": [],
      "metadata": {
        "id": "h5H03rXwL64Q"
      },
      "execution_count": null,
      "outputs": []
    }
  ]
}